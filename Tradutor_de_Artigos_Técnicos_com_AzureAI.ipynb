{
  "nbformat": 4,
  "nbformat_minor": 0,
  "metadata": {
    "colab": {
      "provenance": []
    },
    "kernelspec": {
      "name": "python3",
      "display_name": "Python 3"
    },
    "language_info": {
      "name": "python"
    }
  },
  "cells": [
    {
      "cell_type": "code",
      "execution_count": 2,
      "metadata": {
        "colab": {
          "base_uri": "https://localhost:8080/"
        },
        "id": "9ep68Y-O4s3t",
        "outputId": "81b97bb8-9ae5-486b-b5c6-40ed8358eef1"
      },
      "outputs": [
        {
          "output_type": "stream",
          "name": "stdout",
          "text": [
            "Collecting python-docx\n",
            "  Downloading python_docx-1.2.0-py3-none-any.whl.metadata (2.0 kB)\n",
            "Requirement already satisfied: lxml>=3.1.0 in /usr/local/lib/python3.12/dist-packages (from python-docx) (5.4.0)\n",
            "Requirement already satisfied: typing_extensions>=4.9.0 in /usr/local/lib/python3.12/dist-packages (from python-docx) (4.15.0)\n",
            "Downloading python_docx-1.2.0-py3-none-any.whl (252 kB)\n",
            "\u001b[?25l   \u001b[90m━━━━━━━━━━━━━━━━━━━━━━━━━━━━━━━━━━━━━━━━\u001b[0m \u001b[32m0.0/253.0 kB\u001b[0m \u001b[31m?\u001b[0m eta \u001b[36m-:--:--\u001b[0m\r\u001b[2K   \u001b[91m━━━━━━━━━━━━━━━━━━━━━━━━━━━━━━━━━━━━━━\u001b[0m\u001b[91m╸\u001b[0m\u001b[90m━\u001b[0m \u001b[32m245.8/253.0 kB\u001b[0m \u001b[31m7.6 MB/s\u001b[0m eta \u001b[36m0:00:01\u001b[0m\r\u001b[2K   \u001b[90m━━━━━━━━━━━━━━━━━━━━━━━━━━━━━━━━━━━━━━━━\u001b[0m \u001b[32m253.0/253.0 kB\u001b[0m \u001b[31m5.3 MB/s\u001b[0m eta \u001b[36m0:00:00\u001b[0m\n",
            "\u001b[?25hInstalling collected packages: python-docx\n",
            "Successfully installed python-docx-1.2.0\n"
          ]
        }
      ],
      "source": [
        "!pip install python-docx"
      ]
    },
    {
      "cell_type": "code",
      "source": [
        "import requests\n",
        "from docx import Document"
      ],
      "metadata": {
        "id": "KwVrE-uN5Eno"
      },
      "execution_count": 3,
      "outputs": []
    },
    {
      "cell_type": "code",
      "source": [
        "from google.colab import userdata\n",
        "\n",
        "ttl_subscription_key = userdata.get('ttl_subscription_key')\n",
        "ttl_endpoint = userdata.get('ttl_endpoint')\n",
        "ttl_location = userdata.get('ttl_location')"
      ],
      "metadata": {
        "id": "Yu-GIXBw5ZYp"
      },
      "execution_count": 4,
      "outputs": []
    },
    {
      "cell_type": "code",
      "source": [
        "import os\n",
        "\n",
        "destination_language = \"pt-br\"\n",
        "\n",
        "def translator_text(text, target_language):\n",
        "  path = '/translate'\n",
        "  constructed_url = ttl_endpoint + path\n",
        "\n",
        "  params = {\n",
        "      'api-version': '3.0',\n",
        "      'from': 'en',\n",
        "      'to': [target_language]\n",
        "  }\n",
        "  headers = {\n",
        "      'Ocp-Apim-Subscription-Key': ttl_subscription_key,\n",
        "      'Ocp-Apim-Subscription-Region': ttl_location,\n",
        "      'Content-type': 'application/json',\n",
        "      'X-ClientTraceId': str(os.urandom(16))\n",
        "  }\n",
        "  body = [{\"text\": text}]\n",
        "  response = requests.post(constructed_url, params=params, headers=headers, json=body)\n",
        "  data = response.json()\n",
        "  return data[0][\"translations\"][0][\"text\"]\n"
      ],
      "metadata": {
        "id": "sUs0BxME6PN-"
      },
      "execution_count": 14,
      "outputs": []
    },
    {
      "cell_type": "code",
      "source": [
        "translator_text(\"I will not say, do not weep, because not all tears are evil.\", destination_language)"
      ],
      "metadata": {
        "colab": {
          "base_uri": "https://localhost:8080/",
          "height": 35
        },
        "id": "ond4DtOORCav",
        "outputId": "b63aa932-33bf-4f41-b418-7eae78538f9e"
      },
      "execution_count": 15,
      "outputs": [
        {
          "output_type": "execute_result",
          "data": {
            "text/plain": [
              "'Eu não direi, não choreis, porque nem todas as lágrimas são más.'"
            ],
            "application/vnd.google.colaboratory.intrinsic+json": {
              "type": "string"
            }
          },
          "metadata": {},
          "execution_count": 15
        }
      ]
    },
    {
      "cell_type": "code",
      "source": [
        "def translate_document(path):\n",
        "  document = Document(path)\n",
        "  full_text = []\n",
        "  for paragraph in document.paragraphs:\n",
        "    full_text.append(translator_text(paragraph.text, destination_language))\n",
        "\n",
        "  translated_document = Document()\n",
        "  for line in full_text:\n",
        "    translated_document.add_paragraph(line)\n",
        "\n",
        "  path_translated = path.replace(\".docx\", f\"_{destination_language}.docx\")\n",
        "  translated_document.save(path_translated)\n",
        "  return path_translated"
      ],
      "metadata": {
        "id": "86O2pOHKR1H3"
      },
      "execution_count": 17,
      "outputs": []
    },
    {
      "cell_type": "code",
      "source": [
        "input_file = \"/content/Mirrors.docx\"\n",
        "translate_document(input_file)"
      ],
      "metadata": {
        "colab": {
          "base_uri": "https://localhost:8080/",
          "height": 35
        },
        "id": "KIv4NjhwTz3V",
        "outputId": "02393685-65d8-42a1-d90b-67c9422dcb8e"
      },
      "execution_count": 18,
      "outputs": [
        {
          "output_type": "execute_result",
          "data": {
            "text/plain": [
              "'/content/Mirrors_pt-br.docx'"
            ],
            "application/vnd.google.colaboratory.intrinsic+json": {
              "type": "string"
            }
          },
          "metadata": {},
          "execution_count": 18
        }
      ]
    },
    {
      "cell_type": "code",
      "source": [
        "!pip install openai langchain-openai"
      ],
      "metadata": {
        "colab": {
          "base_uri": "https://localhost:8080/"
        },
        "id": "ib53otd6VAHq",
        "outputId": "ce266b9f-e0d5-4c9f-dda0-03f70207ab1f"
      },
      "execution_count": 19,
      "outputs": [
        {
          "output_type": "stream",
          "name": "stdout",
          "text": [
            "Requirement already satisfied: openai in /usr/local/lib/python3.12/dist-packages (1.109.1)\n",
            "Collecting langchain-openai\n",
            "  Downloading langchain_openai-0.3.35-py3-none-any.whl.metadata (2.4 kB)\n",
            "Requirement already satisfied: anyio<5,>=3.5.0 in /usr/local/lib/python3.12/dist-packages (from openai) (4.11.0)\n",
            "Requirement already satisfied: distro<2,>=1.7.0 in /usr/local/lib/python3.12/dist-packages (from openai) (1.9.0)\n",
            "Requirement already satisfied: httpx<1,>=0.23.0 in /usr/local/lib/python3.12/dist-packages (from openai) (0.28.1)\n",
            "Requirement already satisfied: jiter<1,>=0.4.0 in /usr/local/lib/python3.12/dist-packages (from openai) (0.11.0)\n",
            "Requirement already satisfied: pydantic<3,>=1.9.0 in /usr/local/lib/python3.12/dist-packages (from openai) (2.11.10)\n",
            "Requirement already satisfied: sniffio in /usr/local/lib/python3.12/dist-packages (from openai) (1.3.1)\n",
            "Requirement already satisfied: tqdm>4 in /usr/local/lib/python3.12/dist-packages (from openai) (4.67.1)\n",
            "Requirement already satisfied: typing-extensions<5,>=4.11 in /usr/local/lib/python3.12/dist-packages (from openai) (4.15.0)\n",
            "Requirement already satisfied: langchain-core<1.0.0,>=0.3.78 in /usr/local/lib/python3.12/dist-packages (from langchain-openai) (0.3.78)\n",
            "Requirement already satisfied: tiktoken<1.0.0,>=0.7.0 in /usr/local/lib/python3.12/dist-packages (from langchain-openai) (0.12.0)\n",
            "Requirement already satisfied: idna>=2.8 in /usr/local/lib/python3.12/dist-packages (from anyio<5,>=3.5.0->openai) (3.10)\n",
            "Requirement already satisfied: certifi in /usr/local/lib/python3.12/dist-packages (from httpx<1,>=0.23.0->openai) (2025.10.5)\n",
            "Requirement already satisfied: httpcore==1.* in /usr/local/lib/python3.12/dist-packages (from httpx<1,>=0.23.0->openai) (1.0.9)\n",
            "Requirement already satisfied: h11>=0.16 in /usr/local/lib/python3.12/dist-packages (from httpcore==1.*->httpx<1,>=0.23.0->openai) (0.16.0)\n",
            "Requirement already satisfied: langsmith<1.0.0,>=0.3.45 in /usr/local/lib/python3.12/dist-packages (from langchain-core<1.0.0,>=0.3.78->langchain-openai) (0.4.33)\n",
            "Requirement already satisfied: tenacity!=8.4.0,<10.0.0,>=8.1.0 in /usr/local/lib/python3.12/dist-packages (from langchain-core<1.0.0,>=0.3.78->langchain-openai) (8.5.0)\n",
            "Requirement already satisfied: jsonpatch<2.0.0,>=1.33.0 in /usr/local/lib/python3.12/dist-packages (from langchain-core<1.0.0,>=0.3.78->langchain-openai) (1.33)\n",
            "Requirement already satisfied: PyYAML<7.0.0,>=5.3.0 in /usr/local/lib/python3.12/dist-packages (from langchain-core<1.0.0,>=0.3.78->langchain-openai) (6.0.3)\n",
            "Requirement already satisfied: packaging<26.0.0,>=23.2.0 in /usr/local/lib/python3.12/dist-packages (from langchain-core<1.0.0,>=0.3.78->langchain-openai) (25.0)\n",
            "Requirement already satisfied: annotated-types>=0.6.0 in /usr/local/lib/python3.12/dist-packages (from pydantic<3,>=1.9.0->openai) (0.7.0)\n",
            "Requirement already satisfied: pydantic-core==2.33.2 in /usr/local/lib/python3.12/dist-packages (from pydantic<3,>=1.9.0->openai) (2.33.2)\n",
            "Requirement already satisfied: typing-inspection>=0.4.0 in /usr/local/lib/python3.12/dist-packages (from pydantic<3,>=1.9.0->openai) (0.4.2)\n",
            "Requirement already satisfied: regex>=2022.1.18 in /usr/local/lib/python3.12/dist-packages (from tiktoken<1.0.0,>=0.7.0->langchain-openai) (2024.11.6)\n",
            "Requirement already satisfied: requests>=2.26.0 in /usr/local/lib/python3.12/dist-packages (from tiktoken<1.0.0,>=0.7.0->langchain-openai) (2.32.4)\n",
            "Requirement already satisfied: jsonpointer>=1.9 in /usr/local/lib/python3.12/dist-packages (from jsonpatch<2.0.0,>=1.33.0->langchain-core<1.0.0,>=0.3.78->langchain-openai) (3.0.0)\n",
            "Requirement already satisfied: orjson>=3.9.14 in /usr/local/lib/python3.12/dist-packages (from langsmith<1.0.0,>=0.3.45->langchain-core<1.0.0,>=0.3.78->langchain-openai) (3.11.3)\n",
            "Requirement already satisfied: requests-toolbelt>=1.0.0 in /usr/local/lib/python3.12/dist-packages (from langsmith<1.0.0,>=0.3.45->langchain-core<1.0.0,>=0.3.78->langchain-openai) (1.0.0)\n",
            "Requirement already satisfied: zstandard>=0.23.0 in /usr/local/lib/python3.12/dist-packages (from langsmith<1.0.0,>=0.3.45->langchain-core<1.0.0,>=0.3.78->langchain-openai) (0.25.0)\n",
            "Requirement already satisfied: charset_normalizer<4,>=2 in /usr/local/lib/python3.12/dist-packages (from requests>=2.26.0->tiktoken<1.0.0,>=0.7.0->langchain-openai) (3.4.3)\n",
            "Requirement already satisfied: urllib3<3,>=1.21.1 in /usr/local/lib/python3.12/dist-packages (from requests>=2.26.0->tiktoken<1.0.0,>=0.7.0->langchain-openai) (2.5.0)\n",
            "Downloading langchain_openai-0.3.35-py3-none-any.whl (75 kB)\n",
            "\u001b[2K   \u001b[90m━━━━━━━━━━━━━━━━━━━━━━━━━━━━━━━━━━━━━━━━\u001b[0m \u001b[32m76.0/76.0 kB\u001b[0m \u001b[31m2.4 MB/s\u001b[0m eta \u001b[36m0:00:00\u001b[0m\n",
            "\u001b[?25hInstalling collected packages: langchain-openai\n",
            "Successfully installed langchain-openai-0.3.35\n"
          ]
        }
      ]
    },
    {
      "cell_type": "code",
      "source": [
        "import requests\n",
        "from bs4 import BeautifulSoup\n",
        "\n",
        "def extract_text_from_url(url):\n",
        "  response = requests.get(url)\n",
        "\n",
        "  if response.status_code != 200:\n",
        "    raise Exception(f\"Failed to fetch the URL. Status code: {response.status_code}\")\n",
        "\n",
        "  soup = BeautifulSoup(response.text, 'html.parser')\n",
        "  for script in soup([\"script\", \"style\"]):\n",
        "    script.decompose()\n",
        "  text = soup.get_text(separator=\" \")\n",
        "  #Limpar texto\n",
        "  lines = (line.strip() for line in text.splitlines())\n",
        "  chunks = (phrase.strip() for line in lines for phrase in line.split(\"  \"))\n",
        "  text = '\\n'.join(chunk for chunk in chunks if chunk)\n",
        "  return text"
      ],
      "metadata": {
        "id": "ff9E3i8mVIA9"
      },
      "execution_count": 20,
      "outputs": []
    },
    {
      "cell_type": "code",
      "source": [
        "from google.colab import userdata\n",
        "\n",
        "azure_open_ai_key = userdata.get('azure_open_ai_key')"
      ],
      "metadata": {
        "id": "CyIB7fHBWuLO"
      },
      "execution_count": 21,
      "outputs": []
    },
    {
      "cell_type": "code",
      "source": [
        "from langchain_openai import AzureChatOpenAI\n",
        "\n",
        "client = AzureChatOpenAI(\n",
        "    azure_endpoint=\"https://oai-dio-bootcamp-dev-eastus-777.openai.azure.com/\",\n",
        "    api_key=azure_open_ai_key,\n",
        "    api_version=\"2024-12-01-preview\",\n",
        "    deployment_name=\"gpt-4o-mini\",\n",
        "    max_retries=0\n",
        ")\n",
        "\n",
        "def translate_article(text, lang):\n",
        "  messages = [\n",
        "      (\"system\", \"Você atua como tradutor de textos\"),\n",
        "      (\"user\", f\"Traduza o {text} para o idioma {lang} e responda em markdown.\")\n",
        "  ]\n",
        "\n",
        "  response = client.invoke(messages)\n",
        "  return response.content"
      ],
      "metadata": {
        "id": "a7aXefaDV7Tz"
      },
      "execution_count": 24,
      "outputs": []
    },
    {
      "cell_type": "code",
      "source": [
        "url = \"https://cloud.google.com/learn/what-is-artificial-intelligence\"\n",
        "text = extract_text_from_url(url)\n",
        "article = translate_article(text, \"pt-br\")"
      ],
      "metadata": {
        "id": "WWHhtJ9Ga0NR"
      },
      "execution_count": 25,
      "outputs": []
    },
    {
      "cell_type": "code",
      "source": [
        "article"
      ],
      "metadata": {
        "colab": {
          "base_uri": "https://localhost:8080/",
          "height": 730
        },
        "id": "0IlsDrF-dpCC",
        "outputId": "62d1d57f-6bfd-4e05-df31-0187aa39ab80"
      },
      "execution_count": 26,
      "outputs": [
        {
          "output_type": "execute_result",
          "data": {
            "text/plain": [
              "'# O Que É Inteligência Artificial (IA)? | Conteúdos da Página do Google Cloud\\n\\n## O que é Inteligência Artificial?\\n\\nA inteligência artificial (IA) é um conjunto de tecnologias que permite que computadores realizem uma variedade de funções avançadas, incluindo a capacidade de **ver**, **entender** e **traduzir** a linguagem falada e escrita, **analisar dados**, fazer **recomendações**, entre outras. A IA é a espinha dorsal da inovação na computação moderna, desbloqueando valor para indivíduos e empresas. Por exemplo, o reconhecimento óptico de caracteres (OCR) utiliza a IA para extrair texto e dados de imagens e documentos, transformando conteúdo não estruturado em dados estruturados prontos para o negócio, e revelando insights valiosos.\\n\\n### Pronto para começar?\\n\\nNovos clientes recebem $300 em créditos gratuitos para gastar no Google Cloud. **Comece gratuitamente!**\\n\\n## Introdução à IA Generativa\\n\\n### Definição de Inteligência Artificial\\n\\nA inteligência artificial é um campo da ciência dedicado à construção de computadores e máquinas que podem raciocinar, aprender e agir de uma forma que normalmente exigiria inteligência humana ou que envolve dados cuja escala excede a capacidade de análise humana. A IA é um campo amplo que abrange muitas disciplinas diferentes, incluindo ciência da computação, análise de dados e estatísticas, engenharia de hardware e software, linguística, neurociência e até filosofia e psicologia. Em um nível operacional para uso comercial, a IA é um conjunto de tecnologias baseadas principalmente em aprendizagem de máquina e aprendizagem profunda, utilizadas para análise de dados, previsões e prognósticos, categorização de objetos, processamento de linguagem natural, recomendações, recuperação inteligente de dados e muito mais.\\n\\n### Como a IA funciona?\\n\\nEmbora os detalhes variem entre as diferentes técnicas de IA, o princípio central gira em torno dos dados. Os sistemas de IA aprendem e melhoram através da exposição a grandes quantidades de dados, identificando padrões e relacionamentos que os humanos podem perder. Esse processo de aprendizagem frequentemente envolve algoritmos, que são conjuntos de regras ou instruções que guiam a análise e a tomada de decisão da IA. Na aprendizagem de máquina, um subconjunto popular da IA, os algoritmos são treinados em dados rotulados ou não rotulados para fazer previsões ou categorizar informações. A **aprendizagem profunda**, uma especialização adicional, utiliza redes neurais artificiais com múltiplas camadas para processar informações, imitando a estrutura e a função do cérebro humano. Através do aprendizado e adaptação contínuos, os sistemas de IA tornam-se cada vez mais adeptos em realizar tarefas específicas, desde o reconhecimento de imagens até a tradução de idiomas e além.\\n\\n### Tipos de inteligência artificial\\n\\nA inteligência artificial pode ser organizada de várias maneiras, dependendo dos estágios de desenvolvimento ou das ações realizadas. Por exemplo, reconhecem-se comumente quatro estágios de desenvolvimento da IA:\\n\\n1. **Máquinas reativas**: IA limitada que apenas reage a diferentes tipos de estímulos baseados em regras pré-programadas. Não utiliza memória e, portanto, não pode aprender com novos dados. O Deep Blue da IBM, que venceu o campeão de xadrez Garry Kasparov em 1997, foi um exemplo de máquina reativa.\\n\\n2. **Memória limitada**: A maioria das IAs modernas é considerada de memória limitada. Elas podem usar memória para melhorar ao longo do tempo, sendo treinadas com novos dados, tipicamente através de uma rede neural artificial ou outro modelo de treinamento. A aprendizagem profunda, um subconjunto da aprendizagem de máquina, é considerada inteligência artificial de memória limitada.\\n\\n3. **Teoria da mente**: A IA de teoria da mente ainda não existe, mas pesquisas estão em andamento sobre suas possibilidades. Ela descreve uma IA que pode emular a mente humana e possui capacidades de tomada de decisão iguais às de um humano, incluindo o reconhecimento e a memória de emoções e a reação em situações sociais como um humano faria.\\n\\n4. **Autoconsciência**: Um passo acima da IA de teoria da mente, a IA autoconsciente descreve uma máquina mítica que está ciente de sua própria existência e possui capacidades intelectuais e emocionais de um humano. Assim como a IA de teoria da mente, a IA autoconsciente atualmente não existe.\\n\\n### Modelos de treinamento em inteligência artificial\\n\\nQuando as empresas falam sobre IA, frequentemente falam sobre \"dados de treinamento\". Mas o que isso significa? Lembre-se que a inteligência artificial de memória limitada é a IA que melhora ao longo do tempo sendo treinada com novos dados. A aprendizagem de máquina é um subconjunto da inteligência artificial que usa algoritmos para treinar dados para obter resultados.\\n\\nEm linhas gerais, três tipos de modelos de aprendizado são frequentemente usados na aprendizagem de máquina: **Aprendizagem supervisionada**, **Aprendizagem não supervisionada** e **Aprendizagem por reforço**.\\n\\n### Benefícios da IA\\n\\n- **Automação**: A IA pode automatizar fluxos de trabalho e processos ou trabalhar de forma independente e autônoma de uma equipe humana.\\n- **Redução de erros humanos**: A IA pode eliminar erros manuais em processamento de dados, análise e montagem na fabricação.\\n- **Eliminação de tarefas repetitivas**: A IA pode ser usada para realizar tarefas repetitivas, liberando o capital humano para trabalhar em problemas de maior impacto.\\n- **Rápida e precisa**: A IA pode processar mais informações mais rapidamente do que um humano.\\n- **Disponibilidade infinita**: A IA não é limitada por horários, necessidade de pausas ou outros impedimentos humanos.\\n- **Pesquisa e desenvolvimento acelerados**: A capacidade de analisar grandes quantidades de dados rapidamente pode levar a avanços acelerados em pesquisa e desenvolvimento.\\n\\n### Aplicações e casos de uso da inteligência artificial\\n\\n- **Reconhecimento de fala**: Converter automaticamente a fala falada em texto escrito.\\n- **Reconhecimento de imagem**: Identificar e categorizar vários aspectos de uma imagem.\\n- **Tradução**: Traduzir palavras escritas ou faladas de uma língua para outra.\\n- **Modelagem preditiva**: Mineração de dados para prever resultados específicos com elevado grau de detalhamento.\\n- **Análise de dados**: Encontrar padrões e relacionamentos em dados para inteligência de negócios.\\n- **Cibersegurança**: Escanear autonomamente redes em busca de ataques cibernéticos e ameaças.\\n\\n### Produtos e serviços relacionados\\n\\nO Google oferece uma série de produtos, soluções e aplicações de inteligência artificial sofisticadas em uma plataforma de nuvem confiável que permite que as empresas construam e implementem facilmente algoritmos e modelos de IA.\\n\\n---\\n\\nPara explorar mais produtos e soluções de IA oferecidos pelo Google Cloud, acesse [Google Cloud AI](https://cloud.google.com/products/ai).'"
            ],
            "application/vnd.google.colaboratory.intrinsic+json": {
              "type": "string"
            }
          },
          "metadata": {},
          "execution_count": 26
        }
      ]
    }
  ]
}